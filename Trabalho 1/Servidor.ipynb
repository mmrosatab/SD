{
 "cells": [
  {
   "cell_type": "code",
   "execution_count": 1,
   "metadata": {
    "collapsed": false
   },
   "outputs": [
    {
     "name": "stdout",
     "output_type": "stream",
     "text": [
      "Sou o servidor! Olá\n"
     ]
    },
    {
     "ename": "KeyboardInterrupt",
     "evalue": "",
     "output_type": "error",
     "traceback": [
      "\u001b[1;31m---------------------------------------------------------------------------\u001b[0m",
      "\u001b[1;31mKeyboardInterrupt\u001b[0m                         Traceback (most recent call last)",
      "\u001b[1;32m<ipython-input-1-18b8892ce781>\u001b[0m in \u001b[0;36m<module>\u001b[1;34m()\u001b[0m\n\u001b[0;32m     73\u001b[0m \u001b[1;33m\u001b[0m\u001b[0m\n\u001b[0;32m     74\u001b[0m \u001b[1;32mif\u001b[0m \u001b[0m__name__\u001b[0m \u001b[1;33m==\u001b[0m \u001b[1;34m\"__main__\"\u001b[0m\u001b[1;33m:\u001b[0m\u001b[1;33m\u001b[0m\u001b[0m\n\u001b[1;32m---> 75\u001b[1;33m     \u001b[0mmain\u001b[0m\u001b[1;33m(\u001b[0m\u001b[1;33m)\u001b[0m\u001b[1;33m\u001b[0m\u001b[0m\n\u001b[0m\u001b[0;32m     76\u001b[0m \u001b[1;33m\u001b[0m\u001b[0m\n",
      "\u001b[1;32m<ipython-input-1-18b8892ce781>\u001b[0m in \u001b[0;36mmain\u001b[1;34m()\u001b[0m\n\u001b[0;32m     66\u001b[0m     \u001b[0mserver\u001b[0m\u001b[1;33m.\u001b[0m\u001b[0mregister_function\u001b[0m\u001b[1;33m(\u001b[0m\u001b[0mconsultarCR\u001b[0m\u001b[1;33m)\u001b[0m\u001b[1;33m\u001b[0m\u001b[0m\n\u001b[0;32m     67\u001b[0m \u001b[1;33m\u001b[0m\u001b[0m\n\u001b[1;32m---> 68\u001b[1;33m     \u001b[0mserver\u001b[0m\u001b[1;33m.\u001b[0m\u001b[0mserve_forever\u001b[0m\u001b[1;33m(\u001b[0m\u001b[1;33m)\u001b[0m\u001b[1;33m\u001b[0m\u001b[0m\n\u001b[0m\u001b[0;32m     69\u001b[0m     \u001b[0mprint\u001b[0m\u001b[1;33m(\u001b[0m\u001b[1;34m\"Aperte Ctrl+C para encerrar o programa\"\u001b[0m\u001b[1;33m)\u001b[0m\u001b[1;33m\u001b[0m\u001b[0m\n\u001b[0;32m     70\u001b[0m \u001b[1;33m\u001b[0m\u001b[0m\n",
      "\u001b[1;32m/home/pandessa/anaconda3/lib/python3.5/socketserver.py\u001b[0m in \u001b[0;36mserve_forever\u001b[1;34m(self, poll_interval)\u001b[0m\n\u001b[0;32m    230\u001b[0m \u001b[1;33m\u001b[0m\u001b[0m\n\u001b[0;32m    231\u001b[0m                 \u001b[1;32mwhile\u001b[0m \u001b[1;32mnot\u001b[0m \u001b[0mself\u001b[0m\u001b[1;33m.\u001b[0m\u001b[0m__shutdown_request\u001b[0m\u001b[1;33m:\u001b[0m\u001b[1;33m\u001b[0m\u001b[0m\n\u001b[1;32m--> 232\u001b[1;33m                     \u001b[0mready\u001b[0m \u001b[1;33m=\u001b[0m \u001b[0mselector\u001b[0m\u001b[1;33m.\u001b[0m\u001b[0mselect\u001b[0m\u001b[1;33m(\u001b[0m\u001b[0mpoll_interval\u001b[0m\u001b[1;33m)\u001b[0m\u001b[1;33m\u001b[0m\u001b[0m\n\u001b[0m\u001b[0;32m    233\u001b[0m                     \u001b[1;32mif\u001b[0m \u001b[0mready\u001b[0m\u001b[1;33m:\u001b[0m\u001b[1;33m\u001b[0m\u001b[0m\n\u001b[0;32m    234\u001b[0m                         \u001b[0mself\u001b[0m\u001b[1;33m.\u001b[0m\u001b[0m_handle_request_noblock\u001b[0m\u001b[1;33m(\u001b[0m\u001b[1;33m)\u001b[0m\u001b[1;33m\u001b[0m\u001b[0m\n",
      "\u001b[1;32m/home/pandessa/anaconda3/lib/python3.5/selectors.py\u001b[0m in \u001b[0;36mselect\u001b[1;34m(self, timeout)\u001b[0m\n\u001b[0;32m    374\u001b[0m             \u001b[0mready\u001b[0m \u001b[1;33m=\u001b[0m \u001b[1;33m[\u001b[0m\u001b[1;33m]\u001b[0m\u001b[1;33m\u001b[0m\u001b[0m\n\u001b[0;32m    375\u001b[0m             \u001b[1;32mtry\u001b[0m\u001b[1;33m:\u001b[0m\u001b[1;33m\u001b[0m\u001b[0m\n\u001b[1;32m--> 376\u001b[1;33m                 \u001b[0mfd_event_list\u001b[0m \u001b[1;33m=\u001b[0m \u001b[0mself\u001b[0m\u001b[1;33m.\u001b[0m\u001b[0m_poll\u001b[0m\u001b[1;33m.\u001b[0m\u001b[0mpoll\u001b[0m\u001b[1;33m(\u001b[0m\u001b[0mtimeout\u001b[0m\u001b[1;33m)\u001b[0m\u001b[1;33m\u001b[0m\u001b[0m\n\u001b[0m\u001b[0;32m    377\u001b[0m             \u001b[1;32mexcept\u001b[0m \u001b[0mInterruptedError\u001b[0m\u001b[1;33m:\u001b[0m\u001b[1;33m\u001b[0m\u001b[0m\n\u001b[0;32m    378\u001b[0m                 \u001b[1;32mreturn\u001b[0m \u001b[0mready\u001b[0m\u001b[1;33m\u001b[0m\u001b[0m\n",
      "\u001b[1;31mKeyboardInterrupt\u001b[0m: "
     ]
    }
   ],
   "source": [
    "#Lado Servidor\n",
    "\n",
    "from xmlrpc.server import SimpleXMLRPCServer\n",
    "import psycopg2\n",
    "con = psycopg2.connect(host='localhost', database='Historico', user='postgres', password='Caraio123')\n",
    "cur = con.cursor()\n",
    "sql = 'CREATE TABLE Periodo ( matricula int NOT NULL, disciplina varchar(4) NOT NULL, nota float NOT NULL, primary key(matricula, disciplina));'\n",
    "cur.execute(sql)\n",
    "con.commit()\n",
    "\n",
    "\n",
    "def cadastrarNota(mat,codDisc,nota):\n",
    "    cur   = con.cursor()\n",
    "    sql   = 'SELECT nota FROM Periodo WHERE matricula = ' + str(mat) + ' AND disciplina = ' + \"'\" + codDisc + \"'\"\n",
    "    cur.execute(sql)\n",
    "    \n",
    "    if cur.rowcount > 0:\n",
    "        sql = 'UPDATE Periodo SET nota = '+ str(nota) + ' WHERE matricula = ' + str(mat) + ' AND disciplina = ' + \"'\" + codDisc + \"'\"\n",
    "    \n",
    "    else:\n",
    "        sql = 'INSERT INTO Periodo VALUES ('+ str(mat) + \",'\" + codDisc + \"',\" + str(nota) + ');'\n",
    "        \n",
    "    cur.execute(sql)\n",
    "    con.commit()\n",
    "    return True\n",
    "\n",
    "def consultarNota(matricula, disciplina):\n",
    "    cur      = con.cursor()\n",
    "    sql      = 'SELECT disciplina, nota FROM Periodo WHERE matricula = '+ str(matricula) + ' AND disciplina = ' + \"'\" + disciplina + \"'\";\n",
    "    cur.execute(sql)\n",
    "    linha    = cur.fetchone()\n",
    "    return linha[0] + ' ' + str(linha[1])\n",
    "\n",
    "def listarNotas(matricula):\n",
    "    cur      = con.cursor()\n",
    "    sql      = 'SELECT disciplina, nota FROM Periodo WHERE matricula = '+ str(matricula);\n",
    "    cur.execute(sql)\n",
    "    linhas   = cur.fetchall()\n",
    "    result   = ''\n",
    "    \n",
    "    for linha in linhas:\n",
    "        result = result + linha[0] + ' ' + str(linha[1]) + '\\n'\n",
    "        \n",
    "    return result\n",
    "        \n",
    "\n",
    "def consultarCR(matricula):\n",
    "    cur      = con.cursor()\n",
    "    sql      = 'SELECT nota FROM Periodo WHERE matricula = '+ str(matricula)\n",
    "    cur.execute(sql)\n",
    "    notas    = cur.fetchall()\n",
    "    cr       = 0\n",
    "    \n",
    "    for nota in notas:\n",
    "        cr = cr + float(nota[0]) \n",
    "    \n",
    "    return round(cr/cur.rowcount,2)\n",
    "\n",
    "def main():\n",
    "    \n",
    "    print(\"Sou o servidor! Olá\")\n",
    "    server = SimpleXMLRPCServer((\"localhost\", 8080))\n",
    "    server.register_function(cadastrarNota)\n",
    "    server.register_function(consultarNota)\n",
    "    server.register_function(listarNotas)\n",
    "    server.register_function(consultarCR)\n",
    "    \n",
    "    server.serve_forever()\n",
    "    print(\"Aperte Ctrl+C para encerrar o programa\")\n",
    "    \n",
    "    con.close()\n",
    "\n",
    "    \n",
    "if __name__ == \"__main__\":\n",
    "    main()\n",
    "    "
   ]
  },
  {
   "cell_type": "code",
   "execution_count": 1,
   "metadata": {
    "collapsed": false
   },
   "outputs": [],
   "source": [
    "\n",
    "\n"
   ]
  },
  {
   "cell_type": "code",
   "execution_count": null,
   "metadata": {
    "collapsed": true
   },
   "outputs": [],
   "source": []
  }
 ],
 "metadata": {
  "anaconda-cloud": {},
  "kernelspec": {
   "display_name": "Python [Root]",
   "language": "python",
   "name": "Python [Root]"
  },
  "language_info": {
   "codemirror_mode": {
    "name": "ipython",
    "version": 3
   },
   "file_extension": ".py",
   "mimetype": "text/x-python",
   "name": "python",
   "nbconvert_exporter": "python",
   "pygments_lexer": "ipython3",
   "version": "3.5.2"
  }
 },
 "nbformat": 4,
 "nbformat_minor": 2
}
