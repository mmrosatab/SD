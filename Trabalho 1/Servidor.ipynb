{
 "cells": [
  {
   "cell_type": "code",
   "execution_count": 1,
   "metadata": {},
   "outputs": [
    {
     "ename": "OperationalError",
     "evalue": "FATAL:  database \"Historico\" does not exist\n",
     "output_type": "error",
     "traceback": [
      "\u001b[1;31m---------------------------------------------------------------------------\u001b[0m",
      "\u001b[1;31mOperationalError\u001b[0m                          Traceback (most recent call last)",
      "\u001b[1;32m<ipython-input-1-01080bc89f21>\u001b[0m in \u001b[0;36m<module>\u001b[1;34m()\u001b[0m\n\u001b[0;32m      3\u001b[0m \u001b[1;32mfrom\u001b[0m \u001b[0mxmlrpc\u001b[0m\u001b[1;33m.\u001b[0m\u001b[0mserver\u001b[0m \u001b[1;32mimport\u001b[0m \u001b[0mSimpleXMLRPCServer\u001b[0m\u001b[1;33m\u001b[0m\u001b[0m\n\u001b[0;32m      4\u001b[0m \u001b[1;32mimport\u001b[0m \u001b[0mpsycopg2\u001b[0m\u001b[1;33m\u001b[0m\u001b[0m\n\u001b[1;32m----> 5\u001b[1;33m \u001b[0mcon\u001b[0m \u001b[1;33m=\u001b[0m \u001b[0mpsycopg2\u001b[0m\u001b[1;33m.\u001b[0m\u001b[0mconnect\u001b[0m\u001b[1;33m(\u001b[0m\u001b[0mhost\u001b[0m\u001b[1;33m=\u001b[0m\u001b[1;34m'localhost'\u001b[0m\u001b[1;33m,\u001b[0m \u001b[0mdatabase\u001b[0m\u001b[1;33m=\u001b[0m\u001b[1;34m'Historico'\u001b[0m\u001b[1;33m,\u001b[0m \u001b[0muser\u001b[0m\u001b[1;33m=\u001b[0m\u001b[1;34m'postgres'\u001b[0m\u001b[1;33m,\u001b[0m \u001b[0mpassword\u001b[0m\u001b[1;33m=\u001b[0m\u001b[1;34m'Caraio123'\u001b[0m\u001b[1;33m)\u001b[0m\u001b[1;33m\u001b[0m\u001b[0m\n\u001b[0m\u001b[0;32m      6\u001b[0m \u001b[0mcur\u001b[0m \u001b[1;33m=\u001b[0m \u001b[0mcon\u001b[0m\u001b[1;33m.\u001b[0m\u001b[0mcursor\u001b[0m\u001b[1;33m(\u001b[0m\u001b[1;33m)\u001b[0m\u001b[1;33m\u001b[0m\u001b[0m\n\u001b[0;32m      7\u001b[0m \u001b[0msql\u001b[0m \u001b[1;33m=\u001b[0m \u001b[1;34m'CREATE TABLE Periodo ( matricula int NOT NULL, disciplina varchar(4) NOT NULL, nota float NOT NULL, primary key(matricula, disciplina));'\u001b[0m\u001b[1;33m\u001b[0m\u001b[0m\n",
      "\u001b[1;32mC:\\ProgramData\\Anaconda3\\lib\\site-packages\\psycopg2\\__init__.py\u001b[0m in \u001b[0;36mconnect\u001b[1;34m(dsn, connection_factory, cursor_factory, **kwargs)\u001b[0m\n\u001b[0;32m    128\u001b[0m \u001b[1;33m\u001b[0m\u001b[0m\n\u001b[0;32m    129\u001b[0m     \u001b[0mdsn\u001b[0m \u001b[1;33m=\u001b[0m \u001b[0m_ext\u001b[0m\u001b[1;33m.\u001b[0m\u001b[0mmake_dsn\u001b[0m\u001b[1;33m(\u001b[0m\u001b[0mdsn\u001b[0m\u001b[1;33m,\u001b[0m \u001b[1;33m**\u001b[0m\u001b[0mkwargs\u001b[0m\u001b[1;33m)\u001b[0m\u001b[1;33m\u001b[0m\u001b[0m\n\u001b[1;32m--> 130\u001b[1;33m     \u001b[0mconn\u001b[0m \u001b[1;33m=\u001b[0m \u001b[0m_connect\u001b[0m\u001b[1;33m(\u001b[0m\u001b[0mdsn\u001b[0m\u001b[1;33m,\u001b[0m \u001b[0mconnection_factory\u001b[0m\u001b[1;33m=\u001b[0m\u001b[0mconnection_factory\u001b[0m\u001b[1;33m,\u001b[0m \u001b[1;33m**\u001b[0m\u001b[0mkwasync\u001b[0m\u001b[1;33m)\u001b[0m\u001b[1;33m\u001b[0m\u001b[0m\n\u001b[0m\u001b[0;32m    131\u001b[0m     \u001b[1;32mif\u001b[0m \u001b[0mcursor_factory\u001b[0m \u001b[1;32mis\u001b[0m \u001b[1;32mnot\u001b[0m \u001b[1;32mNone\u001b[0m\u001b[1;33m:\u001b[0m\u001b[1;33m\u001b[0m\u001b[0m\n\u001b[0;32m    132\u001b[0m         \u001b[0mconn\u001b[0m\u001b[1;33m.\u001b[0m\u001b[0mcursor_factory\u001b[0m \u001b[1;33m=\u001b[0m \u001b[0mcursor_factory\u001b[0m\u001b[1;33m\u001b[0m\u001b[0m\n",
      "\u001b[1;31mOperationalError\u001b[0m: FATAL:  database \"Historico\" does not exist\n"
     ]
    }
   ],
   "source": [
    "#Lado Servidor\n",
    "\n",
    "from xmlrpc.server import SimpleXMLRPCServer\n",
    "import psycopg2\n",
    "con = psycopg2.connect(host='localhost', database='Historico', user='postgres', password='Caraio123')\n",
    "cur = con.cursor()\n",
    "sql = 'CREATE TABLE Periodo ( matricula int NOT NULL, disciplina varchar(4) NOT NULL, nota float NOT NULL, primary key(matricula, disciplina));'\n",
    "cur.execute(sql)\n",
    "con.commit()\n",
    "\n",
    "\n",
    "def cadastrarNota(mat,codDisc,nota):\n",
    "    cur   = con.cursor()\n",
    "    sql   = 'SELECT nota FROM Periodo WHERE matricula = ' + str(mat) + ' AND disciplina = ' + \"'\" + codDisc + \"'\"\n",
    "    cur.execute(sql)\n",
    "    \n",
    "    if cur.rowcount > 0:\n",
    "        sql = 'UPDATE Periodo SET nota = '+ str(nota) + ' WHERE matricula = ' + str(mat) + ' AND disciplina = ' + \"'\" + codDisc + \"'\"\n",
    "    \n",
    "    else:\n",
    "        sql = 'INSERT INTO Periodo VALUES ('+ str(mat) + \",'\" + codDisc + \"',\" + str(nota) + ');'\n",
    "        \n",
    "    cur.execute(sql)\n",
    "    con.commit()\n",
    "    return True\n",
    "\n",
    "def consultarNota(matricula, disciplina):\n",
    "    cur      = con.cursor()\n",
    "    sql      = 'SELECT disciplina, nota FROM Periodo WHERE matricula = '+ str(matricula) + ' AND disciplina = ' + \"'\" + disciplina + \"'\";\n",
    "    cur.execute(sql)\n",
    "    linha    = cur.fetchone()\n",
    "    return linha[0] + ' ' + str(linha[1])\n",
    "\n",
    "def listarNotas(matricula):\n",
    "    cur      = con.cursor()\n",
    "    sql      = 'SELECT disciplina, nota FROM Periodo WHERE matricula = '+ str(matricula);\n",
    "    cur.execute(sql)\n",
    "    linhas   = cur.fetchall()\n",
    "    result   = ''\n",
    "    \n",
    "    for linha in linhas:\n",
    "        result = result + linha[0] + ' ' + str(linha[1]) + '\\n'\n",
    "        \n",
    "    return result\n",
    "        \n",
    "\n",
    "def consultarCR(matricula):\n",
    "    cur      = con.cursor()\n",
    "    sql      = 'SELECT nota FROM Periodo WHERE matricula = '+ str(matricula)\n",
    "    cur.execute(sql)\n",
    "    notas    = cur.fetchall()\n",
    "    cr       = 0\n",
    "    \n",
    "    for nota in notas:\n",
    "        cr = cr + float(nota[0]) \n",
    "    \n",
    "    return round(cr/cur.rowcount,2)\n",
    "\n",
    "def main():\n",
    "    \n",
    "    print(\"Sou o servidor! Olá\")\n",
    "    server = SimpleXMLRPCServer((\"localhost\", 8080))\n",
    "    server.register_function(cadastrarNota)\n",
    "    server.register_function(consultarNota)\n",
    "    server.register_function(listarNotas)\n",
    "    server.register_function(consultarCR)\n",
    "    \n",
    "    server.serve_forever()\n",
    "    print(\"Aperte Ctrl+C para encerrar o programa\")\n",
    "    \n",
    "    con.close()\n",
    "\n",
    "    \n",
    "if __name__ == \"__main__\":\n",
    "    main()\n",
    "    "
   ]
  },
  {
   "cell_type": "code",
   "execution_count": 1,
   "metadata": {},
   "outputs": [],
   "source": [
    "\n",
    "\n"
   ]
  },
  {
   "cell_type": "code",
   "execution_count": null,
   "metadata": {
    "collapsed": true
   },
   "outputs": [],
   "source": []
  }
 ],
 "metadata": {
  "anaconda-cloud": {},
  "kernelspec": {
   "display_name": "Python 3",
   "language": "python",
   "name": "python3"
  },
  "language_info": {
   "codemirror_mode": {
    "name": "ipython",
    "version": 3
   },
   "file_extension": ".py",
   "mimetype": "text/x-python",
   "name": "python",
   "nbconvert_exporter": "python",
   "pygments_lexer": "ipython3",
   "version": "3.6.4"
  }
 },
 "nbformat": 4,
 "nbformat_minor": 2
}
