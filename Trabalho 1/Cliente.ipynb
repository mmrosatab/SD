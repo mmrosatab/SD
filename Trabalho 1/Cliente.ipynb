{
 "cells": [
  {
   "cell_type": "code",
   "execution_count": 2,
   "metadata": {
    "collapsed": false
   },
   "outputs": [],
   "source": [
    "import xmlrpc.client\n",
    "import psycopg2"
   ]
  },
  {
   "cell_type": "code",
   "execution_count": 36,
   "metadata": {
    "collapsed": false
   },
   "outputs": [
    {
     "name": "stdout",
     "output_type": "stream",
     "text": [
      "Conectando ao servidor...\n",
      "7.07\n"
     ]
    }
   ],
   "source": [
    "\n",
    "def main():\n",
    "    print(\"Conectando ao servidor...\")\n",
    "    cliente = xmlrpc.client.ServerProxy(\"http://localhost:8080/\")\n",
    "              \n",
    "    #print(cliente.cadastrarNota(2013785013,'TM03',0))\n",
    "    #print(cliente.listarNotas(2013785012))\n",
    "    #print(cliente.consultarNota(2013785011,'TM00'))\n",
    "    print(cliente.consultarCR(2013785011))\n",
    "    \n",
    "if __name__ == \"__main__\":\n",
    "    main()\n"
   ]
  },
  {
   "cell_type": "code",
   "execution_count": null,
   "metadata": {
    "collapsed": true
   },
   "outputs": [],
   "source": []
  },
  {
   "cell_type": "code",
   "execution_count": null,
   "metadata": {
    "collapsed": true
   },
   "outputs": [],
   "source": []
  }
 ],
 "metadata": {
  "anaconda-cloud": {},
  "kernelspec": {
   "display_name": "Python [Root]",
   "language": "python",
   "name": "Python [Root]"
  },
  "language_info": {
   "codemirror_mode": {
    "name": "ipython",
    "version": 3
   },
   "file_extension": ".py",
   "mimetype": "text/x-python",
   "name": "python",
   "nbconvert_exporter": "python",
   "pygments_lexer": "ipython3",
   "version": "3.5.2"
  }
 },
 "nbformat": 4,
 "nbformat_minor": 2
}
