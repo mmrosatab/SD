{
 "cells": [
  {
   "cell_type": "code",
   "execution_count": 9,
   "metadata": {
    "collapsed": true
   },
   "outputs": [],
   "source": [
    "import xmlrpc.client"
   ]
  },
  {
   "cell_type": "code",
   "execution_count": 10,
   "metadata": {
    "collapsed": false
   },
   "outputs": [
    {
     "name": "stdout",
     "output_type": "stream",
     "text": [
      "Eu sou o Cliente\n",
      "20\n",
      "['2012785164', '78', '7.0']\n"
     ]
    }
   ],
   "source": [
    "\n",
    "def main():\n",
    "    print(\"Eu sou o Cliente\")\n",
    "    cliente = xmlrpc.client.ServerProxy(\"http://localhost:8080/\")\n",
    "              \n",
    "    \n",
    "    print(cliente.add(10,10))\n",
    "    print(cliente.cadastrarNota(\"2012785164\",\"78\",\"7.0\"))\n",
    "    \n",
    "if __name__ == \"__main__\":\n",
    "    main()\n"
   ]
  },
  {
   "cell_type": "code",
   "execution_count": null,
   "metadata": {
    "collapsed": true
   },
   "outputs": [],
   "source": []
  }
 ],
 "metadata": {
  "kernelspec": {
   "display_name": "Python 3",
   "language": "python",
   "name": "python3"
  },
  "language_info": {
   "codemirror_mode": {
    "name": "ipython",
    "version": 3
   },
   "file_extension": ".py",
   "mimetype": "text/x-python",
   "name": "python",
   "nbconvert_exporter": "python",
   "pygments_lexer": "ipython3",
   "version": "3.6.0"
  }
 },
 "nbformat": 4,
 "nbformat_minor": 2
}
