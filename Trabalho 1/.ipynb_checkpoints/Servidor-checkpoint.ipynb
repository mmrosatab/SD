{
 "cells": [
  {
   "cell_type": "code",
   "execution_count": 1,
   "metadata": {
    "collapsed": false
   },
   "outputs": [],
   "source": [
    "from xmlrpc.server import SimpleXMLRPCServer\n",
    "import psycopg2\n",
    "con = psycopg2.connect(host='localhost', database='Historico', user='postgres', password='Caraio123')\n",
    "cur = con.cursor()\n",
    "#sql = 'create table Periodo(matricula int primary key, disciplina varchar(4) not null, nota int);'\n",
    "#cur.execute(sql)\n",
    "#con.commit()\n",
    "\n",
    "\n"
   ]
  },
  {
   "cell_type": "code",
   "execution_count": null,
   "metadata": {
    "collapsed": false
   },
   "outputs": [
    {
     "name": "stdout",
     "output_type": "stream",
     "text": [
      "Sou o servidor! Olá\n"
     ]
    },
    {
     "name": "stderr",
     "output_type": "stream",
     "text": [
      "127.0.0.1 - - [30/Mar/2018 01:14:10] \"POST / HTTP/1.1\" 200 -\n",
      "127.0.0.1 - - [30/Mar/2018 01:14:10] \"POST / HTTP/1.1\" 200 -\n"
     ]
    },
    {
     "name": "stdout",
     "output_type": "stream",
     "text": [
      "A\n"
     ]
    }
   ],
   "source": [
    "#Lado Servidor\n",
    "\n",
    "def add(a,b):\n",
    "    return a+b\n",
    "\n",
    "def cadastrarNota(mat,codDisc,nota):\n",
    "    cur   = con.cursor()\n",
    "    print(codDisc)\n",
    "    sqlIn = 'INSERT INTO Periodo VALUES ('+ str(mat) + \",'\" + codDisc + \"',\" + str(nota) + ');'\n",
    "    cur.execute(sqlIn)\n",
    "    con.commit()\n",
    "    print(\"Cadastrado!\")\n",
    "    return True\n",
    "\n",
    "def main():\n",
    "    \n",
    "    print(\"Sou o servidor! Olá\")\n",
    "    server = SimpleXMLRPCServer((\"localhost\", 8080))\n",
    "    server.register_function(add)\n",
    "    server.register_function(cadastrarNota)\n",
    "    server.serve_forever()\n",
    "    print(\"Aperte Ctrl+C para encerrar o programa\")\n",
    "    \n",
    "    con.close()\n",
    "\n",
    "    \n",
    "if __name__ == \"__main__\":\n",
    "    main()\n",
    "    "
   ]
  },
  {
   "cell_type": "code",
   "execution_count": null,
   "metadata": {
    "collapsed": true
   },
   "outputs": [],
   "source": []
  }
 ],
 "metadata": {
  "anaconda-cloud": {},
  "kernelspec": {
   "display_name": "Python [Root]",
   "language": "python",
   "name": "Python [Root]"
  },
  "language_info": {
   "codemirror_mode": {
    "name": "ipython",
    "version": 3
   },
   "file_extension": ".py",
   "mimetype": "text/x-python",
   "name": "python",
   "nbconvert_exporter": "python",
   "pygments_lexer": "ipython3",
   "version": "3.5.2"
  }
 },
 "nbformat": 4,
 "nbformat_minor": 2
}
