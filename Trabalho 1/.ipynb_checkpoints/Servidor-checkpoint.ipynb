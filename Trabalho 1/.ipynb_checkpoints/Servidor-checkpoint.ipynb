{
 "cells": [
  {
   "cell_type": "code",
   "execution_count": 1,
   "metadata": {},
   "outputs": [
    {
     "name": "stdout",
     "output_type": "stream",
     "text": [
      "Sou a servidor! Olá\n",
      "Aperte Ctrl+C para encerrar o programa\n"
     ]
    }
   ],
   "source": [
    "from xmlrpc.server import SimpleXMLRPCServer\n",
    "\n",
    "#Lado Servidor\n",
    "\n",
    "def add(a,b):\n",
    "    return a+b\n",
    "\n",
    "def cadastrarNota(mat,codDisc,nota):\n",
    "    return mat,codDisc,nota\n",
    "\n",
    "def main():\n",
    "    print(\"Sou a servidor! Olá\")\n",
    "    \n",
    "    server = SimpleXMLRPCServer((\"localhost\", 8080))\n",
    "\n",
    "    server.register_function(add)\n",
    "    server.register_function(cadastrarNota)\n",
    "    server.serve_forever()\n",
    "    print(\"Aperte Ctrl+C para encerrar o programa\")\n",
    "    \n",
    "if __name__ == \"__main__\":\n",
    "    main()\n",
    "    "
   ]
  },
  {
   "cell_type": "code",
   "execution_count": null,
   "metadata": {
    "collapsed": true
   },
   "outputs": [],
   "source": []
  },
  {
   "cell_type": "code",
   "execution_count": null,
   "metadata": {
    "collapsed": true
   },
   "outputs": [],
   "source": []
  }
 ],
 "metadata": {
  "kernelspec": {
   "display_name": "Python 3",
   "language": "python",
   "name": "python3"
  },
  "language_info": {
   "codemirror_mode": {
    "name": "ipython",
    "version": 3
   },
   "file_extension": ".py",
   "mimetype": "text/x-python",
   "name": "python",
   "nbconvert_exporter": "python",
   "pygments_lexer": "ipython3",
   "version": "3.6.1"
  }
 },
 "nbformat": 4,
 "nbformat_minor": 2
}
